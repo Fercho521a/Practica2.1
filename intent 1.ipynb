{
 "cells": [
  {
   "cell_type": "code",
   "execution_count": 5,
   "metadata": {},
   "outputs": [
    {
     "name": "stdout",
     "output_type": "stream",
     "text": [
      "Estas fuera del rango de entrega \n"
     ]
    }
   ],
   "source": [
    "x=int(input(\"Ingresa tu codigo postal: \"))\n",
    "if 50000 <= x <=50030:\n",
    " print (\"Estas dentro de rango de entrega \")\n",
    "else:\n",
    " print ( \"Estas fuera del rango de entrega \")"
   ]
  },
  {
   "cell_type": "code",
   "execution_count": 6,
   "metadata": {},
   "outputs": [
    {
     "name": "stdout",
     "output_type": "stream",
     "text": [
      "06/03\n",
      "15/06\n",
      "it's not your birthday\n"
     ]
    }
   ],
   "source": [
    "fechadel_diadehoy=input(\"Ingresa la fecha de hoy (00/00)\")\n",
    "print (fechadel_diadehoy)\n",
    "fechade_nacimieto= input(\"Escribe tu fecha de nacimiento (00/00)\")\n",
    "print(fechade_nacimieto)\n",
    "if  fechadel_diadehoy==fechade_nacimieto :\n",
    "    print(\"Happy birthday\")\n",
    "else:\n",
    "    print(\"it's not your birthday\")"
   ]
  },
  {
   "cell_type": "code",
   "execution_count": 4,
   "metadata": {},
   "outputs": [
    {
     "ename": "IndentationError",
     "evalue": "expected an indented block after 'if' statement on line 8 (2542651055.py, line 9)",
     "output_type": "error",
     "traceback": [
      "\u001b[1;36m  Cell \u001b[1;32mIn[4], line 9\u001b[1;36m\u001b[0m\n\u001b[1;33m    print(\"El resultado es igual\")\u001b[0m\n\u001b[1;37m    ^\u001b[0m\n\u001b[1;31mIndentationError\u001b[0m\u001b[1;31m:\u001b[0m expected an indented block after 'if' statement on line 8\n"
     ]
    }
   ],
   "source": [
    "num1=int (input(\"Ingresa el primer numero\"))\n",
    "num2=int (input(\"Ingresa el suegundo numero\"))\n",
    "sum_num1= num1 * 5\n",
    "sum_num2= num2 + 3\n",
    "print(f\"{num1}*5 = {num2}+3 \")\n",
    "print(f\"{num1}*5 = {sum_num1}\")\n",
    "print(f\"{num2}*5 = {sum_num2}\")\n",
    "if sum_num1==sum_num2:\n",
    "print(\"El resultado es igual\")\n",
    "else:\n",
    "print(\"El resultado es diferente\")"
   ]
  }
 ],
 "metadata": {
  "kernelspec": {
   "display_name": "Python 3",
   "language": "python",
   "name": "python3"
  },
  "language_info": {
   "codemirror_mode": {
    "name": "ipython",
    "version": 3
   },
   "file_extension": ".py",
   "mimetype": "text/x-python",
   "name": "python",
   "nbconvert_exporter": "python",
   "pygments_lexer": "ipython3",
   "version": "3.12.2"
  }
 },
 "nbformat": 4,
 "nbformat_minor": 2
}
